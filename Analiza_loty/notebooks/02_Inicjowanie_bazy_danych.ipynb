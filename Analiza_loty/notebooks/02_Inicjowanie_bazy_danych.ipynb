{
 "cells": [
  {
   "cell_type": "markdown",
   "metadata": {},
   "source": [
    " # Opis notatnika\n",
    " W tym notatniku skupimy się na stworzeniu dedykowanej bazy danych wraz ze strukturą tabel. Jednak w tym momencie nie będziemy jej uzupełniać danymi - tym zajmiemy się w kolejnej części.\n",
    "  \n",
    "Inicjacja bazy danych zostanie wykonana w notatniku, nie bezpośrednio na Postgresie."
   ]
  },
  {
   "cell_type": "markdown",
   "metadata": {},
   "source": [
    "Zaimportowanie potrzebnych bibliotek"
   ]
  },
  {
   "cell_type": "code",
   "execution_count": 1,
   "metadata": {},
   "outputs": [],
   "source": [
    "import psycopg2"
   ]
  },
  {
   "cell_type": "markdown",
   "metadata": {},
   "source": [
    " ## Połączenie z bazą danych\n"
   ]
  },
  {
   "cell_type": "markdown",
   "metadata": {},
   "source": [
    "Zdefiniowanie zmiennej `con` oraz `cursor`"
   ]
  },
  {
   "cell_type": "code",
   "execution_count": 2,
   "metadata": {},
   "outputs": [],
   "source": [
    "con = psycopg2.connect(\n",
    "    host='localhost',\n",
    "    user='postgres',\n",
    "    password='al2cx7hsixj',  # Przypadkowe, nieprawdziwe hasło\n",
    "    dbname='airlines', \n",
    ")\n",
    "cursor = con.cursor()"
   ]
  },
  {
   "cell_type": "code",
   "execution_count": 3,
   "metadata": {},
   "outputs": [],
   "source": [
    "# Wczytanie pliku database_schema.sql jako string. Plik zawiera już przygotowane komendy tworzące tabele, gotowe do uruchomienia.\n",
    "\n",
    "with open(r\"C:\\Coderslab_Analityk_kurs\\Projekt_koncowy\\sql\\database_schema.sql\", \"r\", encoding=\"utf-8\") as sql_file:\n",
    "    sql_content = sql_file.read()\n",
    "    sql_content = sql_content.replace('\\n', ' ')"
   ]
  },
  {
   "cell_type": "code",
   "execution_count": null,
   "metadata": {},
   "outputs": [],
   "source": [
    "'''\n",
    "Treść pliku database_schema.sql:\n",
    "\n",
    "    DROP TABLE IF EXISTS public.aircraft CASCADE;\n",
    "    CREATE TABLE IF NOT EXISTS public.aircraft\n",
    "    (\n",
    "        id serial,\n",
    "        manufacture_year bigint,\n",
    "        tail_num text,\n",
    "        number_of_seats double precision\n",
    "    )\n",
    "    ;\n",
    "\n",
    "    CREATE OR REPLACE VIEW public.v_aircraft_blocker AS\n",
    "    SELECT 1 FROM public.aircraft LIMIT 1;\n",
    "\n",
    "    DROP TABLE IF EXISTS public.airport_weather CASCADE;\n",
    "    CREATE TABLE IF NOT EXISTS public.airport_weather\n",
    "    (\n",
    "        id serial,\n",
    "        station text,\n",
    "        name text,\n",
    "        date text,\n",
    "        awnd double precision,\n",
    "        pgtm double precision,\n",
    "        prcp double precision,\n",
    "        snow double precision,\n",
    "        snwd double precision,\n",
    "        tavg double precision,\n",
    "        tmax double precision,\n",
    "        tmin double precision,\n",
    "        wdf2 double precision,\n",
    "        wdf5 double precision,\n",
    "        wsf2 double precision,\n",
    "        wsf5 double precision,\n",
    "        wt01 double precision,\n",
    "        wt02 double precision,\n",
    "        wt03 double precision,\n",
    "        wt04 double precision,\n",
    "        wt05 double precision,\n",
    "        wt06 double precision,\n",
    "        wt07 double precision,\n",
    "        wt08 double precision,\n",
    "        wt09 double precision,\n",
    "        wesd double precision,\n",
    "        wt10 double precision,\n",
    "        psun double precision,\n",
    "        tsun double precision,\n",
    "        sn32 double precision,\n",
    "        sx32 double precision,\n",
    "        tobs double precision,\n",
    "        wt11 double precision,\n",
    "        wt18 double precision\n",
    "    )\n",
    "    ;\n",
    "\n",
    "    /* BLOCKER TO FORCE USAGE if_exists in PANDAS REMOVE IF OBSTACLE*/\n",
    "    CREATE OR REPLACE VIEW public.v_aircraft_weather_blocker AS\n",
    "    SELECT 1 FROM public.airport_weather LIMIT 1;\n",
    "\n",
    "    DROP TABLE IF EXISTS public.flight CASCADE;\n",
    "    CREATE TABLE IF NOT EXISTS public.flight\n",
    "    (\n",
    "        id serial,\n",
    "        month bigint,\n",
    "        day_of_month bigint,\n",
    "        day_of_week bigint,\n",
    "        op_unique_carrier text,\n",
    "        tail_num text,\n",
    "        op_carrier_fl_num bigint,\n",
    "        origin_airport_id bigint,\n",
    "        dest_airport_id bigint,\n",
    "        crs_dep_time bigint,\n",
    "        dep_time double precision,\n",
    "        dep_delay_new double precision,\n",
    "        dep_time_blk text,\n",
    "        crs_arr_time bigint,\n",
    "        arr_time double precision,\n",
    "        arr_delay_new double precision,\n",
    "        arr_time_blk text,\n",
    "        cancelled double precision,\n",
    "        crs_elapsed_time double precision,\n",
    "        actual_elapsed_time double precision,\n",
    "        distance double precision,\n",
    "        distance_group bigint,\n",
    "        carrier_delay double precision,\n",
    "        weather_delay double precision,\n",
    "        nas_delay double precision,\n",
    "        security_delay double precision,\n",
    "        late_aircraft_delay double precision,\n",
    "        year bigint\n",
    "    )\n",
    "    ;\n",
    "\n",
    "    /* BLOCKER TO FORCE USAGE if_exists in PANDAS REMOVE IF OBSTACLE*/\n",
    "    CREATE OR REPLACE VIEW public.v_flight_blocker AS\n",
    "    SELECT 1 FROM public.flight LIMIT 1;\n",
    "\n",
    "    DROP TABLE IF EXISTS public.airport_list CASCADE;\n",
    "    CREATE TABLE IF NOT EXISTS public.airport_list\n",
    "    (\n",
    "        id serial,\n",
    "        origin_airport_id bigint,\n",
    "        display_airport_name text ,\n",
    "        origin_city_name text ,\n",
    "        name text \n",
    "    )\n",
    "    ;\n",
    "\n",
    "    CREATE OR REPLACE VIEW public.v_airport_list_blocker AS\n",
    "    SELECT 1 FROM public.airport_list LIMIT 1\n",
    "\n",
    "'''"
   ]
  },
  {
   "cell_type": "markdown",
   "metadata": {},
   "source": [
    "Rozdzielenie zawartość pliku `database_schema.sql` na mniejsze kwerendy używając `;`"
   ]
  },
  {
   "cell_type": "code",
   "execution_count": 4,
   "metadata": {},
   "outputs": [
    {
     "data": {
      "text/plain": [
       "12"
      ]
     },
     "execution_count": 4,
     "metadata": {},
     "output_type": "execute_result"
    }
   ],
   "source": [
    "kwer = sql_content.split(\";\")\n",
    "\n",
    "# Sprawdzenie liczby znalezionych w pliku polecen - założono, że zostały oddzielone znakiem ;\n",
    "\n",
    "len(kwer)"
   ]
  },
  {
   "cell_type": "markdown",
   "metadata": {},
   "source": [
    " Wykonanie każdej z kwerend, aby zainicjować strukturę bazy danych"
   ]
  },
  {
   "cell_type": "code",
   "execution_count": 5,
   "metadata": {},
   "outputs": [
    {
     "name": "stdout",
     "output_type": "stream",
     "text": [
      "Executing query nr:  0\n",
      "Executing query nr:  1\n",
      "Executing query nr:  2\n",
      "Executing query nr:  3\n",
      "Executing query nr:  4\n",
      "Executing query nr:  5\n",
      "Executing query nr:  6\n",
      "Executing query nr:  7\n",
      "Executing query nr:  8\n",
      "Executing query nr:  9\n",
      "Executing query nr:  10\n",
      "Executing query nr:  11\n"
     ]
    }
   ],
   "source": [
    "for k in range(len(kwer)): \n",
    "    print(\"Executing query nr: \", k)  # Zapis w celu monitorowania które polecenie jest wykonywane\n",
    "    cursor.execute(kwer[k])"
   ]
  },
  {
   "cell_type": "markdown",
   "metadata": {},
   "source": [
    " Zatwierdznie wszystkich operacji na bazie, czyli stworzenie tabel"
   ]
  },
  {
   "cell_type": "code",
   "execution_count": 6,
   "metadata": {},
   "outputs": [],
   "source": [
    "con.commit()"
   ]
  },
  {
   "cell_type": "markdown",
   "metadata": {},
   "source": [
    " # Podsumowanie\n",
    " Za pomocą tego notatnika została zbudowana w sposób automatyczny nasza docelowa baza danych. \n",
    " W kolejnym notatniku tabele zostaną uzupełnione pobranymi danymi."
   ]
  },
  {
   "cell_type": "code",
   "execution_count": null,
   "metadata": {},
   "outputs": [],
   "source": []
  }
 ],
 "metadata": {
  "kernelspec": {
   "display_name": "Python 3 (ipykernel)",
   "language": "python",
   "name": "python3"
  },
  "language_info": {
   "codemirror_mode": {
    "name": "ipython",
    "version": 3
   },
   "file_extension": ".py",
   "mimetype": "text/x-python",
   "name": "python",
   "nbconvert_exporter": "python",
   "pygments_lexer": "ipython3",
   "version": "3.9.13"
  },
  "vscode": {
   "interpreter": {
    "hash": "38d75d0df746d7f75dd34c5d1915af59cb55786647bd68b8d9064425d7680b12"
   }
  }
 },
 "nbformat": 4,
 "nbformat_minor": 2
}
