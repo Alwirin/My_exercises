{
 "cells": [
  {
   "cell_type": "markdown",
   "metadata": {},
   "source": [
    " # Opis notatnika\n",
    " Na bazie danych, gdzie umieszczone są już dane, wszystko zawarte jest na schemacie `public`. Ponieważ zgodnie z wymaganiami otrzymujemy nowy obszar wykorzystania danych, stworzymy sobie schemat dedykowany - `reporting`.  \n",
    " Dalej stworzymy widoki, które odpowiedzą na zadane wcześniej pytania.\n"
   ]
  },
  {
   "cell_type": "markdown",
   "metadata": {},
   "source": [
    " Zaimportowanie potrzebnych bibliotek"
   ]
  },
  {
   "cell_type": "code",
   "execution_count": 1,
   "metadata": {},
   "outputs": [],
   "source": [
    "import psycopg2"
   ]
  },
  {
   "cell_type": "markdown",
   "metadata": {},
   "source": [
    " ## Konfiguracja połączenia\n"
   ]
  },
  {
   "cell_type": "markdown",
   "metadata": {},
   "source": [
    " Zdefiniowanie zmiennych `con` oraz `cursor` do wprowadzania poleceń do bazy danych"
   ]
  },
  {
   "cell_type": "code",
   "execution_count": 2,
   "metadata": {},
   "outputs": [],
   "source": [
    "con = psycopg2.connect(\n",
    "    host='localhost',\n",
    "    user='postgres',\n",
    "    password='al2cx7hsixj',  # Przypadkowe, nieprawdziwe hasło\n",
    "    dbname='airlines', \n",
    ")\n",
    "cursor = con.cursor()"
   ]
  },
  {
   "cell_type": "markdown",
   "metadata": {},
   "source": [
    " ## Wczytanie pliku `reporting.sql`\n"
   ]
  },
  {
   "cell_type": "code",
   "execution_count": 3,
   "metadata": {},
   "outputs": [],
   "source": [
    "# Wczytanie pliku jako string. Plik zawiera już napisane komendy tworzące tabele, gotowe do uruchomienia:\n",
    "\n",
    "with open(r\"C:\\Coderslab_Analityk_kurs\\Projekt_koncowy\\sql\\reporting.sql\", \"r\", encoding=\"utf-8\") as sql_file:\n",
    "    sql_content = sql_file.read()\n",
    "    sql_content = sql_content.replace('\\n', ' ')"
   ]
  },
  {
   "cell_type": "code",
   "execution_count": null,
   "metadata": {},
   "outputs": [],
   "source": [
    "'''\n",
    "Treść pliku reporting.sql:\n",
    "\n",
    "    FROM reporting.top_reliability_roads\n",
    "    join public.airport_list AS al ON reporting.top_reliability_roads.origin_airport_id = al.origin_airport_id\n",
    "    join public.airport_list AS al2 ON reporting.top_reliability_roads.dest_airport_id = al2.origin_airport_id\n",
    "    WHERE cnt >= 10000;\n",
    "\n",
    "    /*\n",
    "    Tworzenie widoku z rankowaniem\n",
    "    */\n",
    "    \n",
    "    CREATE OR REPLACE VIEW reporting.top_reliability_roads3 AS\n",
    "    SELECT \n",
    "    origin_airport_id,\n",
    "    origin_airport_name,\n",
    "    dest_airport_id,\n",
    "    dest_airport_name,\n",
    "    cnt,\n",
    "    year,\n",
    "    reliability,\n",
    "    DENSE_RANK() OVER ( ORDER BY reliability) AS nb\n",
    "    FROM reporting.top_reliability_roads2\n",
    "    ;\n",
    "    \n",
    "    \n",
    "    /*\n",
    "    Definicja widoku reporting.year_to_year_comparision, który będzie zawierał następujące kolumny:\n",
    "    - `year`\n",
    "    - `month`,\n",
    "    - `flights_amount`\n",
    "    - `reliability`\n",
    "    */\n",
    "    \n",
    "    CREATE VIEW reporting.year_to_year_comparision AS\n",
    "    SELECT \n",
    "    year,\n",
    "    month, \n",
    "    COUNT(id) AS flights_amount,\n",
    "    ROUND(100*CAST (SUM(is_delayed) AS numeric) / CAST (COUNT(id) AS numeric)) AS reliability\n",
    "    FROM reporting.flight\n",
    "    GROUP BY year, month\n",
    "    ;\n",
    "    \n",
    "    \n",
    "    /*\n",
    "    Definicja widoku reporting.day_to_day_comparision, który będzie zawierał następujące kolumny:\n",
    "    - `year`\n",
    "    - `day_of_week`\n",
    "    - `flights_amount`\n",
    "    */\n",
    "    \n",
    "    CREATE OR REPLACE VIEW reporting.day_to_day_comparision AS\n",
    "    SELECT \n",
    "    year,\n",
    "    day_of_week, \n",
    "    COUNT(id) AS flights_amount\n",
    "    FROM reporting.flight\n",
    "    GROUP BY year, day_of_week\n",
    "    ;\n",
    "\n",
    "\n",
    "    /*\n",
    "    Definicja widoku reporting.day_by_day_reliability, ktory będzie zawierał następujące kolumny:\n",
    "    - `date` jako złożenie kolumn `year`, `month`, `day`, powinna być typu `date`\n",
    "    - `reliability` jako odsetek opóźnień danego dnia\n",
    "\n",
    "    \n",
    "    */\n",
    "    CREATE OR REPLACE VIEW reporting.day_by_day_reliability AS\n",
    "    SELECT\n",
    "    TO_DATE(year || '-' || month || '-' || day_of_month, 'YYYY-MM-DD') AS date,\n",
    "    ROUND(100*CAST (SUM(is_delayed) AS numeric) / CAST (COUNT(id) AS numeric)) AS reliability\n",
    "    FROM reporting.flight\n",
    "    GROUP BY date\n",
    "\n",
    "'''"
   ]
  },
  {
   "cell_type": "markdown",
   "metadata": {},
   "source": [
    " Rozdzielenie zawartość pliku `reporting.sql` na mniejsze kwerendy używając `;`"
   ]
  },
  {
   "cell_type": "code",
   "execution_count": 4,
   "metadata": {},
   "outputs": [
    {
     "data": {
      "text/plain": [
       "11"
      ]
     },
     "execution_count": 4,
     "metadata": {},
     "output_type": "execute_result"
    }
   ],
   "source": [
    "kwer = sql_content.split(\";\")\n",
    "\n",
    "\n",
    "# Sprawdzenie liczby znalezionych poleceń:\n",
    "\n",
    "len(kwer)"
   ]
  },
  {
   "cell_type": "markdown",
   "metadata": {},
   "source": [
    " Wykonanie każdej z kwerend, aby zainicjować strukturę bazy danych"
   ]
  },
  {
   "cell_type": "code",
   "execution_count": 5,
   "metadata": {},
   "outputs": [
    {
     "name": "stdout",
     "output_type": "stream",
     "text": [
      "Executing query nr:  0\n",
      "Executing query nr:  1\n",
      "Executing query nr:  2\n",
      "Executing query nr:  3\n",
      "Executing query nr:  4\n",
      "Executing query nr:  5\n",
      "Executing query nr:  6\n",
      "Executing query nr:  7\n",
      "Executing query nr:  8\n",
      "Executing query nr:  9\n",
      "Executing query nr:  10\n"
     ]
    }
   ],
   "source": [
    "for k in range(len(kwer)): \n",
    "    print(\"Executing query nr: \", k)  # W celu monitorowania które polecenie jest wykonywane\n",
    "    cursor.execute(kwer[k])"
   ]
  },
  {
   "cell_type": "markdown",
   "metadata": {},
   "source": [
    " Zatwierdzenie wszystkich operacji na bazie, czyli stworzenie widoków"
   ]
  },
  {
   "cell_type": "code",
   "execution_count": 6,
   "metadata": {},
   "outputs": [],
   "source": [
    "con.commit()"
   ]
  },
  {
   "cell_type": "markdown",
   "metadata": {},
   "source": [
    " # Podsumownie\n",
    " W tym notatniku stworzono nowy schemat - `reporting`. Wykorzystanie go może stanowić dobrą bazę do wizualizacji za pomocą dashboardów."
   ]
  }
 ],
 "metadata": {
  "kernelspec": {
   "display_name": "Python 3 (ipykernel)",
   "language": "python",
   "name": "python3"
  },
  "language_info": {
   "codemirror_mode": {
    "name": "ipython",
    "version": 3
   },
   "file_extension": ".py",
   "mimetype": "text/x-python",
   "name": "python",
   "nbconvert_exporter": "python",
   "pygments_lexer": "ipython3",
   "version": "3.9.13"
  },
  "vscode": {
   "interpreter": {
    "hash": "38d75d0df746d7f75dd34c5d1915af59cb55786647bd68b8d9064425d7680b12"
   }
  }
 },
 "nbformat": 4,
 "nbformat_minor": 2
}
